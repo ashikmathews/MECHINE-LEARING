{
 "cells": [
  {
   "cell_type": "code",
   "execution_count": 23,
   "id": "498dbeb2-ddc0-4413-9294-164eb864db64",
   "metadata": {},
   "outputs": [],
   "source": [
    "import pandas as pd\n",
    "import numpy as np\n",
    "import matplotlib.pyplot as plt\n",
    "import seaborn as sns\n",
    "from sklearn.preprocessing import StandardScaler, MinMaxScaler, LabelEncoder\n"
   ]
  },
  {
   "cell_type": "code",
   "execution_count": 25,
   "id": "051bf38e-fc9a-48c3-9319-b770162acc12",
   "metadata": {},
   "outputs": [],
   "source": [
    "df = pd.read_csv(\"C:/Users/User/Downloads/Employee.csv\")"
   ]
  },
  {
   "cell_type": "code",
   "execution_count": 27,
   "id": "5d51fb77-514b-4074-bb3e-7e88304bb19b",
   "metadata": {},
   "outputs": [
    {
     "name": "stdout",
     "output_type": "stream",
     "text": [
      "Dataset Head:\n",
      "   Company   Age  Salary     Place Country  Gender\n",
      "0      TCS  20.0     NaN   Chennai   India       0\n",
      "1  Infosys  30.0     NaN    Mumbai   India       0\n",
      "2      TCS  35.0  2300.0  Calcutta   India       0\n",
      "3  Infosys  40.0  3000.0     Delhi   India       0\n",
      "4      TCS  23.0  4000.0    Mumbai   India       0\n",
      "\n",
      "Dataset Info:\n",
      "<class 'pandas.core.frame.DataFrame'>\n",
      "RangeIndex: 148 entries, 0 to 147\n",
      "Data columns (total 6 columns):\n",
      " #   Column   Non-Null Count  Dtype  \n",
      "---  ------   --------------  -----  \n",
      " 0   Company  140 non-null    object \n",
      " 1   Age      130 non-null    float64\n",
      " 2   Salary   124 non-null    float64\n",
      " 3   Place    134 non-null    object \n",
      " 4   Country  148 non-null    object \n",
      " 5   Gender   148 non-null    int64  \n",
      "dtypes: float64(2), int64(1), object(3)\n",
      "memory usage: 7.1+ KB\n",
      "\n",
      "Statistical Summary:\n",
      "              Age       Salary      Gender\n",
      "count  130.000000   124.000000  148.000000\n",
      "mean    30.484615  5312.467742    0.222973\n",
      "std     11.096640  2573.764683    0.417654\n",
      "min      0.000000  1089.000000    0.000000\n",
      "25%     22.000000  3030.000000    0.000000\n",
      "50%     32.500000  5000.000000    0.000000\n",
      "75%     37.750000  8000.000000    0.000000\n",
      "max     54.000000  9876.000000    1.000000\n"
     ]
    }
   ],
   "source": [
    "print(\"Dataset Head:\")\n",
    "print(df.head())\n",
    "print(\"\\nDataset Info:\")\n",
    "df.info()\n",
    "print(\"\\nStatistical Summary:\")\n",
    "print(df.describe())"
   ]
  },
  {
   "cell_type": "code",
   "execution_count": 29,
   "id": "e3ca7b4f-5079-424a-a5f4-148873ae4c60",
   "metadata": {},
   "outputs": [
    {
     "name": "stdout",
     "output_type": "stream",
     "text": [
      "Unique values in Company: ['TCS' 'Infosys' 'CTS' nan 'Tata Consultancy Services' 'Congnizant'\n",
      " 'Infosys Pvt Lmt']\n",
      "Length of unique values: 7\n",
      "\n",
      "Unique values in Age: [20. 30. 35. 40. 23. nan 34. 45. 18. 22. 32. 37. 50. 21. 46. 36. 26. 41.\n",
      " 24. 25. 43. 19. 38. 51. 31. 44. 33. 17.  0. 54.]\n",
      "Length of unique values: 30\n",
      "\n",
      "Unique values in Salary: [  nan 2300. 3000. 4000. 5000. 6000. 7000. 8000. 9000. 1089. 1234. 3030.\n",
      " 3045. 3184. 4824. 5835. 7084. 8943. 8345. 9284. 9876. 2034. 7654. 2934.\n",
      " 4034. 5034. 8202. 9024. 4345. 6544. 6543. 3234. 4324. 5435. 5555. 8787.\n",
      " 3454. 5654. 5009. 5098. 3033.]\n",
      "Length of unique values: 41\n",
      "\n",
      "Unique values in Place: ['Chennai' 'Mumbai' 'Calcutta' 'Delhi' 'Podicherry' 'Cochin' nan 'Noida'\n",
      " 'Hyderabad' 'Bhopal' 'Nagpur' 'Pune']\n",
      "Length of unique values: 12\n",
      "\n",
      "Unique values in Country: ['India']\n",
      "Length of unique values: 1\n",
      "\n",
      "Unique values in Gender: [0 1]\n",
      "Length of unique values: 2\n",
      "\n"
     ]
    }
   ],
   "source": [
    "for column in df.columns:\n",
    "    print(f\"Unique values in {column}: {df[column].unique()}\")\n",
    "    print(f\"Length of unique values: {len(df[column].unique())}\\n\")\n"
   ]
  },
  {
   "cell_type": "code",
   "execution_count": 31,
   "id": "d9498272-a352-4e48-8501-4d879d749632",
   "metadata": {},
   "outputs": [
    {
     "name": "stdout",
     "output_type": "stream",
     "text": [
      "Missing Values:\n",
      "Company     8\n",
      "Age        18\n",
      "Salary     24\n",
      "Place      14\n",
      "Country     0\n",
      "Gender      0\n",
      "dtype: int64\n"
     ]
    }
   ],
   "source": [
    "print(\"Missing Values:\")\n",
    "print(df.isnull().sum())\n"
   ]
  },
  {
   "cell_type": "code",
   "execution_count": 35,
   "id": "52851ea6-50cd-4d99-974c-69ee454f2286",
   "metadata": {},
   "outputs": [
    {
     "name": "stdout",
     "output_type": "stream",
     "text": [
      "Index(['Company', 'Age', 'Salary', 'Place', 'Country', 'Gender'], dtype='object')\n"
     ]
    }
   ],
   "source": [
    "print(df.columns)\n"
   ]
  },
  {
   "cell_type": "code",
   "execution_count": 37,
   "id": "c2611bf9-76d2-4298-83e9-f24b62cf6303",
   "metadata": {},
   "outputs": [],
   "source": [
    "df.columns = df.columns.str.strip()\n"
   ]
  },
  {
   "cell_type": "code",
   "execution_count": 39,
   "id": "be9bee72-f02d-4e25-a02e-4e2667ca459f",
   "metadata": {},
   "outputs": [],
   "source": [
    "df.rename(columns={'Age': 'age'}, inplace=True)  # Adjust based on actual column name\n"
   ]
  },
  {
   "cell_type": "code",
   "execution_count": 41,
   "id": "13805a46-51ad-4489-b61d-99632a9ad095",
   "metadata": {},
   "outputs": [
    {
     "name": "stdout",
     "output_type": "stream",
     "text": [
      "0    20.0\n",
      "1    30.0\n",
      "2    35.0\n",
      "3    40.0\n",
      "4    23.0\n",
      "Name: age, dtype: float64\n"
     ]
    }
   ],
   "source": [
    "print(df['age'].head())  # Check if 'age' exists now\n"
   ]
  },
  {
   "cell_type": "code",
   "execution_count": 47,
   "id": "d8c6958a-69c2-4005-983a-ba68be2825b4",
   "metadata": {},
   "outputs": [],
   "source": [
    "df['age'] = df['age'].replace(0, np.nan)\n"
   ]
  },
  {
   "cell_type": "code",
   "execution_count": 49,
   "id": "78800c1c-6f14-42f9-94b4-1ea9ff07392a",
   "metadata": {},
   "outputs": [],
   "source": [
    "df.loc[:, 'age'] = df['age'].replace(0, np.nan)\n"
   ]
  },
  {
   "cell_type": "code",
   "execution_count": 55,
   "id": "5ecd40b0-b223-4354-8bb3-5b334883c37d",
   "metadata": {},
   "outputs": [
    {
     "name": "stdout",
     "output_type": "stream",
     "text": [
      "Missing Values:\n",
      " Company     8\n",
      "age        24\n",
      "Salary     24\n",
      "Place      14\n",
      "Country     0\n",
      "Gender      0\n",
      "dtype: int64\n"
     ]
    }
   ],
   "source": [
    "print(\"Missing Values:\\n\", df.isnull().sum())\n"
   ]
  },
  {
   "cell_type": "code",
   "execution_count": 57,
   "id": "26cfc510-0638-4d0b-8f5e-74a96f2b009f",
   "metadata": {},
   "outputs": [],
   "source": [
    "# Fill missing values for numerical columns with the median\n",
    "df.fillna(df.median(numeric_only=True), inplace=True)\n",
    "\n",
    "# Fill missing values for categorical columns with mode\n",
    "df.fillna(df.mode().iloc[0], inplace=True)\n"
   ]
  },
  {
   "cell_type": "code",
   "execution_count": 59,
   "id": "8697430e-bd84-4f13-a0b1-f00699d9954d",
   "metadata": {},
   "outputs": [],
   "source": [
    "df.drop_duplicates(inplace=True)\n"
   ]
  },
  {
   "cell_type": "code",
   "execution_count": 61,
   "id": "72df240d-a9fe-40a0-93ff-8cdb9929d6e4",
   "metadata": {},
   "outputs": [
    {
     "name": "stdout",
     "output_type": "stream",
     "text": [
      "Total duplicates removed: 0\n"
     ]
    }
   ],
   "source": [
    "print(\"Total duplicates removed:\", df.duplicated().sum())\n"
   ]
  },
  {
   "cell_type": "code",
   "execution_count": 65,
   "id": "ada4ae58-84d1-4608-8648-41ec63a7898b",
   "metadata": {},
   "outputs": [
    {
     "name": "stdout",
     "output_type": "stream",
     "text": [
      "Company     object\n",
      "age        float64\n",
      "Salary     float64\n",
      "Place       object\n",
      "Country     object\n",
      "Gender       int64\n",
      "dtype: object\n"
     ]
    }
   ],
   "source": [
    "print(df.dtypes)\n"
   ]
  },
  {
   "cell_type": "code",
   "execution_count": 67,
   "id": "d2aa809e-6aaa-428a-afb1-be27c826ba9b",
   "metadata": {},
   "outputs": [],
   "source": [
    "df = df.apply(pd.to_numeric, errors='coerce')\n"
   ]
  },
  {
   "cell_type": "code",
   "execution_count": 69,
   "id": "7ee39f23-86fd-4099-a121-a2b450977898",
   "metadata": {},
   "outputs": [],
   "source": [
    "Q1 = df.quantile(0.25, numeric_only=True)\n",
    "Q3 = df.quantile(0.75, numeric_only=True)\n",
    "IQR = Q3 - Q1\n",
    "\n",
    "df = df[~((df < (Q1 - 1.5 * IQR)) | (df > (Q3 + 1.5 * IQR))).any(axis=1)]\n"
   ]
  },
  {
   "cell_type": "code",
   "execution_count": 71,
   "id": "5e7f8aad-fd8a-4c55-a0fc-983e30ece8ea",
   "metadata": {},
   "outputs": [
    {
     "name": "stdout",
     "output_type": "stream",
     "text": [
      "Company    112\n",
      "age          0\n",
      "Salary       0\n",
      "Place      112\n",
      "Country    112\n",
      "Gender       0\n",
      "dtype: int64\n"
     ]
    }
   ],
   "source": [
    "print(df.isnull().sum())\n"
   ]
  },
  {
   "cell_type": "code",
   "execution_count": 73,
   "id": "e0ee1fe9-ad9f-4235-9f84-d54c58582bff",
   "metadata": {},
   "outputs": [],
   "source": [
    "from sklearn.preprocessing import LabelEncoder\n",
    "\n",
    "categorical_cols = df.select_dtypes(include=['object']).columns\n",
    "\n",
    "label_encoders = {}\n",
    "for col in categorical_cols:\n",
    "    le = LabelEncoder()\n",
    "    df[col] = le.fit_transform(df[col])\n",
    "    label_encoders[col] = le  # Store encoders if needed later\n"
   ]
  },
  {
   "cell_type": "code",
   "execution_count": 77,
   "id": "c9c1cea9-e93b-4aa7-ac74-6537899a5568",
   "metadata": {},
   "outputs": [
    {
     "name": "stdout",
     "output_type": "stream",
     "text": [
      "Company    112\n",
      "age          0\n",
      "Salary       0\n",
      "Place      112\n",
      "Country    112\n",
      "Gender       0\n",
      "dtype: int64\n"
     ]
    }
   ],
   "source": [
    "print(df.isnull().sum())  # Check for missing values\n"
   ]
  },
  {
   "cell_type": "code",
   "execution_count": 79,
   "id": "92228254-f51c-40d9-b418-bde15a6d84df",
   "metadata": {},
   "outputs": [],
   "source": [
    "df.fillna(df.mean(), inplace=True)  # Replace NaNs with column means\n"
   ]
  },
  {
   "cell_type": "code",
   "execution_count": 81,
   "id": "e1461d14-1ca1-4ce4-bcac-e3cc2250e326",
   "metadata": {},
   "outputs": [],
   "source": [
    "import numpy as np\n",
    "\n",
    "df.replace([np.inf, -np.inf], np.nan, inplace=True)  # Convert infinities to NaN\n",
    "df.dropna(inplace=True)  # Drop or impute remaining NaNs\n"
   ]
  },
  {
   "cell_type": "code",
   "execution_count": 83,
   "id": "8c59d877-a819-4d3c-b78d-6c5d386d142e",
   "metadata": {},
   "outputs": [
    {
     "name": "stdout",
     "output_type": "stream",
     "text": [
      "Company    float64\n",
      "age        float64\n",
      "Salary     float64\n",
      "Place      float64\n",
      "Country    float64\n",
      "Gender     float64\n",
      "dtype: object\n"
     ]
    }
   ],
   "source": [
    "print(df.dtypes)\n"
   ]
  },
  {
   "cell_type": "code",
   "execution_count": 85,
   "id": "d0de9fbf-1a85-451a-b585-360f4e8c53d0",
   "metadata": {},
   "outputs": [],
   "source": [
    "df = df.apply(pd.to_numeric, errors='coerce')  # Convert non-numeric to NaN\n",
    "df.fillna(df.mean(), inplace=True)  # Impute NaNs after conversion\n"
   ]
  },
  {
   "cell_type": "code",
   "execution_count": 89,
   "id": "9f22f51b-18be-4c57-a794-c618f9e0b82f",
   "metadata": {},
   "outputs": [
    {
     "name": "stdout",
     "output_type": "stream",
     "text": [
      "(0, 6)\n",
      "Empty DataFrame\n",
      "Columns: [Company, age, Salary, Place, Country, Gender]\n",
      "Index: []\n"
     ]
    }
   ],
   "source": [
    "print(df.shape)  # Check if there are rows\n",
    "print(df.head())  # See the first few rows\n"
   ]
  },
  {
   "cell_type": "code",
   "execution_count": 93,
   "id": "91fa84c4-22c8-4b87-82ac-8f7ecee0fb5f",
   "metadata": {},
   "outputs": [],
   "source": [
    "import pandas as pd\n",
    "df = pd.read_csv(\"C:/Users/User/Downloads/Employee.csv\")\n"
   ]
  },
  {
   "cell_type": "code",
   "execution_count": 97,
   "id": "7121a08a-84a4-4ff1-8489-878e15529a82",
   "metadata": {},
   "outputs": [],
   "source": [
    "from sklearn.preprocessing import StandardScaler\n",
    "\n",
    "numeric_cols = df.select_dtypes(include=['number']).columns  # Only numeric\n",
    "scaler = StandardScaler()\n",
    "df[numeric_cols] = scaler.fit_transform(df[numeric_cols])\n"
   ]
  },
  {
   "cell_type": "code",
   "execution_count": 103,
   "id": "0916b60e-6c81-4984-855d-024ca8085cba",
   "metadata": {},
   "outputs": [],
   "source": [
    "df.drop_duplicates(inplace=True)"
   ]
  },
  {
   "cell_type": "code",
   "execution_count": 105,
   "id": "abfbad8b-a056-4405-993d-910bbf9d3261",
   "metadata": {},
   "outputs": [
    {
     "data": {
      "image/png": "[encoded data removed]",
      "text/plain": [
       "<Figure size 1000x500 with 1 Axes>"
      ]
     },
     "metadata": {},
     "output_type": "display_data"
    }
   ],
   "source": [
    "plt.figure(figsize=(10, 5))\n",
    "sns.boxplot(data=df)\n",
    "plt.title(\"Outliers in Data\")\n",
    "plt.show()"
   ]
  },
  {
   "cell_type": "code",
   "execution_count": 109,
   "id": "d9b35e11-9c71-4354-b4c1-aaf193d1e025",
   "metadata": {},
   "outputs": [
    {
     "name": "stdout",
     "output_type": "stream",
     "text": [
      "Index(['Company', 'Age', 'Salary', 'Place', 'Country', 'Gender'], dtype='object')\n"
     ]
    }
   ],
   "source": [
    "print(df.columns)\n"
   ]
  },
  {
   "cell_type": "code",
   "execution_count": 123,
   "id": "b857598e-5a09-45c1-b43a-43f0d2ab2328",
   "metadata": {},
   "outputs": [],
   "source": [
    "# Select numeric columns\n",
    "numeric_columns = df.select_dtypes(include=[np.number]).columns\n",
    "\n",
    "# Fill missing values in numeric columns with their median\n",
    "df[numeric_columns] = df[numeric_columns].fillna(df[numeric_columns].median())\n"
   ]
  },
  {
   "cell_type": "code",
   "execution_count": 135,
   "id": "86d8e3fa-641a-41f1-aa2b-64368f3ea673",
   "metadata": {},
   "outputs": [
    {
     "name": "stdout",
     "output_type": "stream",
     "text": [
      "\n",
      "Processed Data Sample:\n",
      "   Company       Age    Salary     Place Country    Gender\n",
      "0      TCS -0.948501 -0.121897   Chennai   India -0.535683\n",
      "1  Infosys -0.043841 -0.121897    Mumbai   India -0.535683\n",
      "2      TCS  0.408489 -1.175200  Calcutta   India -0.535683\n",
      "3  Infosys  0.860819 -0.902122     Delhi   India -0.535683\n",
      "4      TCS -0.677103 -0.512010    Mumbai   India -0.535683\n"
     ]
    }
   ],
   "source": [
    "print(\"\\nProcessed Data Sample:\")\n",
    "print(df.head())\n"
   ]
  },
  {
   "cell_type": "code",
   "execution_count": 143,
   "id": "c603d456-97ef-4403-8320-4755f7cbbf65",
   "metadata": {},
   "outputs": [],
   "source": [
    "def remove_outliers(col):\n",
    "    Q1 = df[col].quantile(0.25)\n",
    "    Q3 = df[col].quantile(0.75)\n",
    "    IQR = Q3 - Q1\n",
    "    lower = Q1 - 1.5 * IQR\n",
    "    upper = Q3 + 1.5 * IQR\n",
    "    df[col] = np.where((df[col] < lower) | (df[col] > upper), np.nan, df[col])\n"
   ]
  },
  {
   "cell_type": "code",
   "execution_count": 149,
   "id": "54d38205-a745-4f98-bff6-954928534bcc",
   "metadata": {},
   "outputs": [],
   "source": [
    "def remove_outliers(col):\n",
    "    Q1 = col.quantile(0.25)\n",
    "    Q3 = col.quantile(0.75)\n",
    "    IQR = Q3 - Q1\n",
    "    lower = Q1 - 1.5 * IQR\n",
    "    upper = Q3 + 1.5 * IQR\n",
    "    return np.where((col < lower) | (col > upper), np.nan, col)\n",
    "\n",
    "# Select only numeric columns\n",
    "numeric_columns = df.select_dtypes(include=[np.number]).columns\n",
    "\n",
    "# Apply the outlier removal function to each numeric column\n",
    "for col in numeric_columns:\n",
    "    df[col] = remove_outliers(df[col])\n",
    "\n",
    "# Fill missing values (NaNs) with the median of each numeric column\n",
    "df[numeric_columns] = df[numeric_columns].fillna(df[numeric_columns].median())\n"
   ]
  },
  {
   "cell_type": "code",
   "execution_count": 167,
   "id": "6a000bf7-45e2-4bfe-b3b2-9328658dce12",
   "metadata": {},
   "outputs": [],
   "source": [
    "df.columns = df.columns.str.strip()\n"
   ]
  },
  {
   "cell_type": "code",
   "execution_count": 179,
   "id": "41da4846-7345-4e94-9250-f2f8ff014b9d",
   "metadata": {},
   "outputs": [
    {
     "name": "stdout",
     "output_type": "stream",
     "text": [
      "['Company', 'Age', 'Salary', 'Place', 'Country', 'Gender']\n"
     ]
    }
   ],
   "source": [
    "# Print the column names to check their exact names\n",
    "print(df.columns.tolist())\n"
   ]
  },
  {
   "cell_type": "code",
   "execution_count": 183,
   "id": "5b86e7bb-bb5c-4ab9-a830-77aa00cb6dcc",
   "metadata": {},
   "outputs": [
    {
     "name": "stdout",
     "output_type": "stream",
     "text": [
      "Index(['Company', 'Age', 'Salary', 'Place', 'Country', 'Gender'], dtype='object')\n"
     ]
    }
   ],
   "source": [
    "print(df.columns)\n"
   ]
  },
  {
   "cell_type": "code",
   "execution_count": 185,
   "id": "be6ad55b-37fb-4161-9cda-86ea4b1b8e6e",
   "metadata": {},
   "outputs": [
    {
     "name": "stdout",
     "output_type": "stream",
     "text": [
      "   Company       Age    Salary     Place Country    Gender\n",
      "0      TCS -0.948501 -0.121897   Chennai   India -0.535683\n",
      "1  Infosys -0.043841 -0.121897    Mumbai   India -0.535683\n",
      "2      TCS  0.408489 -1.175200  Calcutta   India -0.535683\n",
      "3  Infosys  0.860819 -0.902122     Delhi   India -0.535683\n",
      "4      TCS -0.677103 -0.512010    Mumbai   India -0.535683\n"
     ]
    }
   ],
   "source": [
    "print(df.head())\n",
    "\n"
   ]
  },
  {
   "cell_type": "code",
   "execution_count": null,
   "id": "9b7a1633-5970-429d-b568-2d68fd8f1115",
   "metadata": {},
   "outputs": [],
   "source": []
  }
 ],
 "metadata": {
  "kernelspec": {
   "display_name": "Python 3 (ipykernel)",
   "language": "python",
   "name": "python3"
  },
  "language_info": {
   "codemirror_mode": {
    "name": "ipython",
    "version": 3
   },
   "file_extension": ".py",
   "mimetype": "text/x-python",
   "name": "python",
   "nbconvert_exporter": "python",
   "pygments_lexer": "ipython3",
   "version": "3.12.7"
  }
 },
 "nbformat": 4,
 "nbformat_minor": 5
}
